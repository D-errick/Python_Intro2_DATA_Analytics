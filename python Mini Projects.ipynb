{
 "cells": [
  {
   "cell_type": "markdown",
   "id": "c47d1ebf-d356-415a-832f-abc5f84a7cde",
   "metadata": {},
   "source": [
    "# project 1: BMI Calculator"
   ]
  },
  {
   "cell_type": "code",
   "execution_count": 35,
   "id": "38ec7ace-ca0b-4ea1-855b-6277016fcf89",
   "metadata": {},
   "outputs": [
    {
     "name": "stdin",
     "output_type": "stream",
     "text": [
      "Enter your name: Derrick\n",
      "Enter your weight in pounds: 170\n",
      "Enter your height in inches: 69\n"
     ]
    },
    {
     "name": "stdout",
     "output_type": "stream",
     "text": [
      "25.101869355177485\n",
      "Derrick Your are overweight\n"
     ]
    }
   ],
   "source": [
    "name = input(\"Enter your name:\")\n",
    "\n",
    "weight = int(input(\"Enter your weight in pounds:\"))\n",
    "\n",
    "height = int(input(\"Enter your height in inches:\"))\n",
    "\n",
    "BMI = (weight * 703) / (height * height)\n",
    "\n",
    "print(BMI)\n",
    "\n",
    "if BMI > 0:\n",
    "    if (BMI < 18.5): \n",
    "     print(name + \" You are underweight\")          \n",
    "    elif (BMI <= 24.9):\n",
    "     print(name + \" You are normal weight\")\n",
    "    elif (BMI < 29.9): \n",
    "     print(name + \" Your are overweight\")\n",
    "    else:\n",
    "     print(\"Enter valid inputs\")  "
   ]
  },
  {
   "cell_type": "code",
   "execution_count": null,
   "id": "54bd768c-1fc2-447d-9344-a20f332f87d2",
   "metadata": {},
   "outputs": [],
   "source": []
  },
  {
   "cell_type": "markdown",
   "id": "f5f10c3b-6618-4932-a590-d087992edc5c",
   "metadata": {},
   "source": [
    "# project 2: Automatic File sorter in file explorer"
   ]
  },
  {
   "cell_type": "code",
   "execution_count": 15,
   "id": "94bb7fdb-5caa-4e7a-b5b3-235a14a522df",
   "metadata": {},
   "outputs": [],
   "source": [
    "import os, shutil"
   ]
  },
  {
   "cell_type": "code",
   "execution_count": 17,
   "id": "8209ff8d-630a-43ed-adda-d1b669afebc1",
   "metadata": {},
   "outputs": [],
   "source": [
    "path = r\"C:/Users/user/OneDrive/Desktop/Derrick's Library/\""
   ]
  },
  {
   "cell_type": "code",
   "execution_count": 19,
   "id": "6d852aa4-c5f6-4ee8-940e-73a4825fab64",
   "metadata": {},
   "outputs": [],
   "source": [
    "files_names = os.listdir(path)"
   ]
  },
  {
   "cell_type": "code",
   "execution_count": 21,
   "id": "4acc27ba-6a00-4c1d-adb2-d267cf40abb8",
   "metadata": {},
   "outputs": [],
   "source": [
    "folder_names = ['csv files', 'image files']\n",
    "for loop in range(0,2):\n",
    "    if not os.path.exists(path + folder_names[loop]):\n",
    "        print(path + folder_names[loop])\n",
    "        os.makedirs(path +folder_names[loop])"
   ]
  },
  {
   "cell_type": "code",
   "execution_count": 27,
   "id": "e03c4421-e9c8-4f78-95d1-26dad0c44438",
   "metadata": {},
   "outputs": [],
   "source": [
    "for file in files_names:\n",
    "    if \".png\" in file and not os.path.exists(path + 'image files/' + file):\n",
    "        shutil.move(path + file, path + 'image files/' + file)       "
   ]
  },
  {
   "cell_type": "code",
   "execution_count": null,
   "id": "7ac81ba3-3877-4e50-9b92-63b305b7837c",
   "metadata": {},
   "outputs": [],
   "source": []
  },
  {
   "cell_type": "code",
   "execution_count": null,
   "id": "f628ea20-53cc-4ad4-a185-a0adeea0946a",
   "metadata": {},
   "outputs": [],
   "source": []
  },
  {
   "cell_type": "code",
   "execution_count": null,
   "id": "6b1b88ac-f67f-4a34-9f50-d98b9e410f28",
   "metadata": {},
   "outputs": [],
   "source": []
  }
 ],
 "metadata": {
  "kernelspec": {
   "display_name": "Python [conda env:base] *",
   "language": "python",
   "name": "conda-base-py"
  },
  "language_info": {
   "codemirror_mode": {
    "name": "ipython",
    "version": 3
   },
   "file_extension": ".py",
   "mimetype": "text/x-python",
   "name": "python",
   "nbconvert_exporter": "python",
   "pygments_lexer": "ipython3",
   "version": "3.12.7"
  }
 },
 "nbformat": 4,
 "nbformat_minor": 5
}
