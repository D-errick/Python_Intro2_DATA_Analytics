{
 "cells": [
  {
   "cell_type": "code",
   "execution_count": 1,
   "id": "36cfde58-872b-4559-b1b0-1cdf7062b048",
   "metadata": {},
   "outputs": [
    {
     "name": "stdout",
     "output_type": "stream",
     "text": [
      "Hello World!\n"
     ]
    }
   ],
   "source": [
    "print(\"Hello World!\")"
   ]
  },
  {
   "cell_type": "markdown",
   "id": "d48eab71-64dd-4cee-9f50-0b5ec202abdd",
   "metadata": {},
   "source": [
    "# This is my journey to becoming an Expert!"
   ]
  },
  {
   "cell_type": "markdown",
   "id": "20f0cfd2-581c-4c3b-8030-f26cc2651a23",
   "metadata": {},
   "source": [
    "## Thank you so much Holy Spirit!"
   ]
  },
  {
   "cell_type": "code",
   "execution_count": null,
   "id": "2d92c194-fb46-4496-bd5e-b381110af83c",
   "metadata": {},
   "outputs": [],
   "source": [
    "#very successful"
   ]
  },
  {
   "cell_type": "code",
   "execution_count": null,
   "id": "baae6317-857c-4b09-9f9a-2d2430eeeca3",
   "metadata": {},
   "outputs": [],
   "source": [
    "#by his grace"
   ]
  },
  {
   "cell_type": "code",
   "execution_count": null,
   "id": "6b55b41d-7e14-498e-9e4a-1acfdf922383",
   "metadata": {},
   "outputs": [],
   "source": [
    "#thank you ooh God"
   ]
  },
  {
   "cell_type": "markdown",
   "id": "68e0f053-ea6b-4f68-8224-d4936fafbd7c",
   "metadata": {},
   "source": [
    "# VARIABLES"
   ]
  },
  {
   "cell_type": "code",
   "execution_count": 2,
   "id": "a44e1404-063e-49ec-acec-f5a38056ae8d",
   "metadata": {},
   "outputs": [
    {
     "name": "stdout",
     "output_type": "stream",
     "text": [
      "25\n"
     ]
    }
   ],
   "source": [
    "x = 25\n",
    "\n",
    "print(x)"
   ]
  },
  {
   "cell_type": "code",
   "execution_count": 4,
   "id": "a74a2670-ad6d-48f1-9da3-e69a0f4b6a08",
   "metadata": {},
   "outputs": [
    {
     "data": {
      "text/plain": [
       "int"
      ]
     },
     "execution_count": 4,
     "metadata": {},
     "output_type": "execute_result"
    }
   ],
   "source": [
    "type(x)"
   ]
  },
  {
   "cell_type": "code",
   "execution_count": 6,
   "id": "6cf2edf5-df40-4012-a9f1-d467545046cf",
   "metadata": {},
   "outputs": [
    {
     "name": "stdout",
     "output_type": "stream",
     "text": [
      "Mint Chocolate Chip!\n"
     ]
    }
   ],
   "source": [
    "y = \"Mint Chocolate Chip!\"\n",
    "print(y)"
   ]
  },
  {
   "cell_type": "code",
   "execution_count": 8,
   "id": "9e976041-e5de-4b65-b103-e977043c0e53",
   "metadata": {},
   "outputs": [
    {
     "data": {
      "text/plain": [
       "str"
      ]
     },
     "execution_count": 8,
     "metadata": {},
     "output_type": "execute_result"
    }
   ],
   "source": [
    "type(y)"
   ]
  },
  {
   "cell_type": "markdown",
   "id": "dfeb9563-4fa4-4b86-ba77-72b536a4f5cf",
   "metadata": {},
   "source": [
    "## Creating a list variable"
   ]
  },
  {
   "cell_type": "code",
   "execution_count": 11,
   "id": "a9eac7b8-13e5-4369-885b-87ad9ccef859",
   "metadata": {},
   "outputs": [
    {
     "name": "stdout",
     "output_type": "stream",
     "text": [
      "['Mango', 'Bananas', 'Sugarcane', 'Apples']\n"
     ]
    }
   ],
   "source": [
    "v = [\"Mango\", \"Bananas\", \"Sugarcane\", \"Apples\"]\n",
    "print(v)"
   ]
  },
  {
   "cell_type": "code",
   "execution_count": null,
   "id": "44208066-d33e-4562-b102-cf8f4c811b24",
   "metadata": {},
   "outputs": [],
   "source": [
    "# Writing Variables\n",
    "#Camel Case\n",
    "testVariableCase = \"Very demure\""
   ]
  },
  {
   "cell_type": "code",
   "execution_count": null,
   "id": "afd37002-6609-4900-bfd9-ae2cda41391b",
   "metadata": {},
   "outputs": [],
   "source": [
    "#Pascal Case\n",
    "TestVariableCase = \"Very demure\""
   ]
  },
  {
   "cell_type": "code",
   "execution_count": null,
   "id": "cdfbf7be-db8b-4657-b243-deeeecc02aea",
   "metadata": {},
   "outputs": [],
   "source": [
    "#snake Case\n",
    "test_variable_case = \"Very demure\""
   ]
  },
  {
   "cell_type": "code",
   "execution_count": 13,
   "id": "12f4a2df-0535-4a58-86bd-ec019cc865a6",
   "metadata": {},
   "outputs": [
    {
     "data": {
      "text/plain": [
       "\"I don't like Icecream.\""
      ]
     },
     "execution_count": 13,
     "metadata": {},
     "output_type": "execute_result"
    }
   ],
   "source": [
    "sample_var = \"I don't like Icecream\" + \".\"\n",
    "sample_var"
   ]
  },
  {
   "cell_type": "markdown",
   "id": "e51c9788-a604-4ab0-bb4c-c6c06e0b09c5",
   "metadata": {},
   "source": [
    "# DATA TYPES IN PYTHON"
   ]
  },
  {
   "cell_type": "code",
   "execution_count": 17,
   "id": "bf0e6766-4d92-4bbb-a603-f7d5fe09e48e",
   "metadata": {},
   "outputs": [
    {
     "data": {
      "text/plain": [
       "int"
      ]
     },
     "execution_count": 17,
     "metadata": {},
     "output_type": "execute_result"
    }
   ],
   "source": [
    "# Numerics\n",
    "type(-13+45)"
   ]
  },
  {
   "cell_type": "code",
   "execution_count": 19,
   "id": "43dc6553-3587-4789-be16-455cc6e6cfe1",
   "metadata": {},
   "outputs": [
    {
     "data": {
      "text/plain": [
       "float"
      ]
     },
     "execution_count": 19,
     "metadata": {},
     "output_type": "execute_result"
    }
   ],
   "source": [
    "type(12+10.345)"
   ]
  },
  {
   "cell_type": "code",
   "execution_count": 21,
   "id": "16e593e8-c19d-40fa-ad20-8d7da77b58fc",
   "metadata": {},
   "outputs": [
    {
     "data": {
      "text/plain": [
       "complex"
      ]
     },
     "execution_count": 21,
     "metadata": {},
     "output_type": "execute_result"
    }
   ],
   "source": [
    "type(12+4j)"
   ]
  },
  {
   "cell_type": "code",
   "execution_count": 25,
   "id": "4ef5a798-fe87-4d8d-a732-9ee872fb1e99",
   "metadata": {},
   "outputs": [
    {
     "data": {
      "text/plain": [
       "bool"
      ]
     },
     "execution_count": 25,
     "metadata": {},
     "output_type": "execute_result"
    }
   ],
   "source": [
    "# Boolean Values\n",
    "type(True)"
   ]
  },
  {
   "cell_type": "code",
   "execution_count": 27,
   "id": "4c1a7232-778b-4e0e-8a62-856efea9d9e5",
   "metadata": {},
   "outputs": [
    {
     "data": {
      "text/plain": [
       "'This is single quotes'"
      ]
     },
     "execution_count": 27,
     "metadata": {},
     "output_type": "execute_result"
    }
   ],
   "source": [
    "'This is single quotes'"
   ]
  },
  {
   "cell_type": "code",
   "execution_count": 29,
   "id": "95e0724d-1939-4394-bfd9-dd202a1068d0",
   "metadata": {},
   "outputs": [
    {
     "data": {
      "text/plain": [
       "'This is double quotes'"
      ]
     },
     "execution_count": 29,
     "metadata": {},
     "output_type": "execute_result"
    }
   ],
   "source": [
    "\"This is double quotes\""
   ]
  },
  {
   "cell_type": "code",
   "execution_count": 31,
   "id": "47be6b94-e82e-4067-ac46-a7d87844a44b",
   "metadata": {},
   "outputs": [
    {
     "data": {
      "text/plain": [
       "'This is multiline quotes'"
      ]
     },
     "execution_count": 31,
     "metadata": {},
     "output_type": "execute_result"
    }
   ],
   "source": [
    "\"\"\"This is multiline quotes\"\"\""
   ]
  },
  {
   "cell_type": "code",
   "execution_count": 33,
   "id": "e02b9376-01a9-4089-ae56-3c44d15a4c3f",
   "metadata": {},
   "outputs": [
    {
     "name": "stdout",
     "output_type": "stream",
     "text": [
      "My very educated mother just showed us nine planets\n"
     ]
    },
    {
     "data": {
      "text/plain": [
       "str"
      ]
     },
     "execution_count": 33,
     "metadata": {},
     "output_type": "execute_result"
    }
   ],
   "source": [
    "baddy_bee = 'My very educated mother just showed us nine planets'\n",
    "print(baddy_bee)\n",
    "type(baddy_bee)"
   ]
  },
  {
   "cell_type": "code",
   "execution_count": 35,
   "id": "577b8189-5510-4377-980a-201677e8bd45",
   "metadata": {},
   "outputs": [
    {
     "name": "stdout",
     "output_type": "stream",
     "text": [
      "Hello\n"
     ]
    }
   ],
   "source": [
    "ace = 'Hello World!'\n",
    "print(ace[0:5])"
   ]
  },
  {
   "cell_type": "code",
   "execution_count": 37,
   "id": "b2ae104a-1e90-40f3-ace0-781176ca3b76",
   "metadata": {},
   "outputs": [
    {
     "name": "stdout",
     "output_type": "stream",
     "text": [
      "W\n"
     ]
    }
   ],
   "source": [
    "print(ace[6])"
   ]
  },
  {
   "cell_type": "code",
   "execution_count": 39,
   "id": "93a94bd8-e2ff-4af5-a3ae-6ea26840f90b",
   "metadata": {},
   "outputs": [
    {
     "name": "stdout",
     "output_type": "stream",
     "text": [
      "llo\n"
     ]
    }
   ],
   "source": [
    "print(ace[2:5])"
   ]
  },
  {
   "cell_type": "code",
   "execution_count": 41,
   "id": "af66e48f-7724-4bf7-85f4-e1f70ba55192",
   "metadata": {},
   "outputs": [
    {
     "data": {
      "text/plain": [
       "'Hello World!Hello World!Hello World!'"
      ]
     },
     "execution_count": 41,
     "metadata": {},
     "output_type": "execute_result"
    }
   ],
   "source": [
    "ace*3"
   ]
  },
  {
   "cell_type": "code",
   "execution_count": 52,
   "id": "8e497413-6943-428e-998e-2dbf514d4061",
   "metadata": {},
   "outputs": [
    {
     "data": {
      "text/plain": [
       "'Hello World!Hello World!'"
      ]
     },
     "execution_count": 52,
     "metadata": {},
     "output_type": "execute_result"
    }
   ],
   "source": [
    "ace + ace"
   ]
  },
  {
   "cell_type": "markdown",
   "id": "883f0989-3b0f-44d7-8aae-65c17361e6b0",
   "metadata": {},
   "source": [
    "#### Getting started with lists"
   ]
  },
  {
   "cell_type": "code",
   "execution_count": 54,
   "id": "cd6b2e8f-502c-4d18-af7d-a0e8240e2249",
   "metadata": {},
   "outputs": [
    {
     "data": {
      "text/plain": [
       "[1, 2, 3, 4, 5]"
      ]
     },
     "execution_count": 54,
     "metadata": {},
     "output_type": "execute_result"
    }
   ],
   "source": [
    "# lists\n",
    "[1,2,3,4,5]"
   ]
  },
  {
   "cell_type": "code",
   "execution_count": 56,
   "id": "d9b90167-5405-4ffd-8a29-730e333de177",
   "metadata": {},
   "outputs": [
    {
     "data": {
      "text/plain": [
       "['Make-up', 'Lotions', 'Regina']"
      ]
     },
     "execution_count": 56,
     "metadata": {},
     "output_type": "execute_result"
    }
   ],
   "source": [
    "[\"Make-up\", \"Lotions\", \"Regina\"]"
   ]
  },
  {
   "cell_type": "code",
   "execution_count": 58,
   "id": "6f3762b7-0026-4b94-9049-51f40dfdbdeb",
   "metadata": {},
   "outputs": [
    {
     "data": {
      "text/plain": [
       "['Vanilla', 3, ['Soaps', 'Washers'], True]"
      ]
     },
     "execution_count": 58,
     "metadata": {},
     "output_type": "execute_result"
    }
   ],
   "source": [
    "# A list can have several data types within one list\n",
    "['Vanilla', 3, ['Soaps', 'Washers'], True]"
   ]
  },
  {
   "cell_type": "code",
   "execution_count": 60,
   "id": "9d1fcb09-f84d-4c41-bafc-2ffa98f65228",
   "metadata": {},
   "outputs": [
    {
     "data": {
      "text/plain": [
       "['Make-up', 'Lotions', 'Regina', 'Lip gloss']"
      ]
     },
     "execution_count": 60,
     "metadata": {},
     "output_type": "execute_result"
    }
   ],
   "source": [
    "#Something notable about lists is that they are changeable\n",
    "girl_kitty = ['Make-up', 'Lotions', 'Regina']\n",
    "\n",
    "girl_kitty.append('Lip gloss')\n",
    "\n",
    "girl_kitty"
   ]
  },
  {
   "cell_type": "code",
   "execution_count": 62,
   "id": "b2d10c94-2090-48a9-8847-df057fe4c431",
   "metadata": {},
   "outputs": [
    {
     "data": {
      "text/plain": [
       "['Vaseline', 'Lotions', 'Regina', 'Lip gloss']"
      ]
     },
     "execution_count": 62,
     "metadata": {},
     "output_type": "execute_result"
    }
   ],
   "source": [
    "girl_kitty[0] = 'Vaseline'\n",
    "\n",
    "girl_kitty"
   ]
  },
  {
   "cell_type": "code",
   "execution_count": 68,
   "id": "290900df-3190-4f6e-afcb-8c24b5d9994c",
   "metadata": {},
   "outputs": [
    {
     "data": {
      "text/plain": [
       "'Washers'"
      ]
     },
     "execution_count": 68,
     "metadata": {},
     "output_type": "execute_result"
    }
   ],
   "source": [
    "# There can also be a list within a list, \"Nested Lists\"\n",
    "\n",
    "nest_list = ['Vanilla', 3, ['Soaps', 'Washers'], True]\n",
    "\n",
    "nest_list[2][1]"
   ]
  },
  {
   "cell_type": "markdown",
   "id": "38ea4834-96d4-4be9-9c90-7eacaa6015bd",
   "metadata": {},
   "source": [
    "#### Getting started with tuples"
   ]
  },
  {
   "cell_type": "code",
   "execution_count": 72,
   "id": "0a3b819e-03c8-419f-a8fd-9b2df08abba7",
   "metadata": {},
   "outputs": [
    {
     "data": {
      "text/plain": [
       "tuple"
      ]
     },
     "execution_count": 72,
     "metadata": {},
     "output_type": "execute_result"
    }
   ],
   "source": [
    "# The main differences between lists and tuples is that tuples are immutable\n",
    "# That means they can't be changed like lists\n",
    "# tuples are majors used when data is not going to change\n",
    "tuple_scoops = (1,3,2,3,5)\n",
    "\n",
    "type(tuple_scoops)"
   ]
  },
  {
   "cell_type": "code",
   "execution_count": 74,
   "id": "a759c03b-9357-4e84-8f18-3c6acb6a9217",
   "metadata": {},
   "outputs": [
    {
     "data": {
      "text/plain": [
       "1"
      ]
     },
     "execution_count": 74,
     "metadata": {},
     "output_type": "execute_result"
    }
   ],
   "source": [
    "tuple_scoops[0]"
   ]
  },
  {
   "cell_type": "markdown",
   "id": "53c490f8-4291-4fff-8f11-34d2cae79b1e",
   "metadata": {},
   "source": [
    "#### Getting started with sets"
   ]
  },
  {
   "cell_type": "code",
   "execution_count": 77,
   "id": "4f41b035-214e-4967-8719-1da8a66c6456",
   "metadata": {},
   "outputs": [
    {
     "data": {
      "text/plain": [
       "set"
      ]
     },
     "execution_count": 77,
     "metadata": {},
     "output_type": "execute_result"
    }
   ],
   "source": [
    "#Sets cannot be indexed like lists and tuples\n",
    "daily_goals = {5,4,3,2}\n",
    "\n",
    "type(daily_goals)"
   ]
  },
  {
   "cell_type": "code",
   "execution_count": 79,
   "id": "bbd0c46c-cbee-4140-acbe-5aaf79989558",
   "metadata": {},
   "outputs": [
    {
     "data": {
      "text/plain": [
       "{2, 3, 4, 5}"
      ]
     },
     "execution_count": 79,
     "metadata": {},
     "output_type": "execute_result"
    }
   ],
   "source": [
    "daily_goals"
   ]
  },
  {
   "cell_type": "code",
   "execution_count": 83,
   "id": "6d42b33b-1f2e-42d7-92b1-df68afdec5c1",
   "metadata": {},
   "outputs": [
    {
     "data": {
      "text/plain": [
       "{2, 3, 4, 5, 7, 8, 31}"
      ]
     },
     "execution_count": 83,
     "metadata": {},
     "output_type": "execute_result"
    }
   ],
   "source": [
    "#sets can only have unique values\n",
    "\n",
    "daily_goals_logs = {5,4,3,2,31,5,7,8,4,3,2}\n",
    "\n",
    "daily_goals_logs"
   ]
  },
  {
   "cell_type": "code",
   "execution_count": 87,
   "id": "2e66bb6b-df76-49f4-8fe4-0a9bf45166be",
   "metadata": {},
   "outputs": [
    {
     "data": {
      "text/plain": [
       "{1, 2, 4, 5, 6, 7, 9, 30, 72, 90}"
      ]
     },
     "execution_count": 87,
     "metadata": {},
     "output_type": "execute_result"
    }
   ],
   "source": [
    "martha_daily_goals = {1,2,4,5,30,7,9,6,72,90}\n",
    "martha_daily_goals"
   ]
  },
  {
   "cell_type": "code",
   "execution_count": 89,
   "id": "fa32dfb0-80d5-4818-ae76-302c59a60897",
   "metadata": {},
   "outputs": [
    {
     "name": "stdout",
     "output_type": "stream",
     "text": [
      "{1, 2, 3, 4, 5, 6, 7, 8, 72, 9, 90, 30, 31}\n"
     ]
    }
   ],
   "source": [
    "print(daily_goals_logs | martha_daily_goals)"
   ]
  },
  {
   "cell_type": "code",
   "execution_count": 91,
   "id": "d7b7e0d5-8209-4de4-981b-913d0a805ae1",
   "metadata": {},
   "outputs": [
    {
     "name": "stdout",
     "output_type": "stream",
     "text": [
      "{2, 4, 5, 7}\n"
     ]
    }
   ],
   "source": [
    "print(daily_goals_logs & martha_daily_goals)"
   ]
  },
  {
   "cell_type": "code",
   "execution_count": 93,
   "id": "cb3ad849-852c-4c89-87eb-cc7124d4e55f",
   "metadata": {},
   "outputs": [
    {
     "name": "stdout",
     "output_type": "stream",
     "text": [
      "{8, 3, 31}\n"
     ]
    }
   ],
   "source": [
    "print(daily_goals_logs - martha_daily_goals)"
   ]
  },
  {
   "cell_type": "markdown",
   "id": "36c9a9f2-ed53-4b92-b7e6-3c10fb10fb66",
   "metadata": {},
   "source": [
    "#### Getting started with dictionaries"
   ]
  },
  {
   "cell_type": "code",
   "execution_count": 98,
   "id": "36e5cefd-319f-42dc-b142-6a1e1121525b",
   "metadata": {},
   "outputs": [
    {
     "data": {
      "text/plain": [
       "{'Name': 'Derrick Simiyu',\n",
       " 'weekly intake': 5,\n",
       " 'Favorite places': ['MCC', 'CreamyInn', 'Chocolate']}"
      ]
     },
     "execution_count": 98,
     "metadata": {},
     "output_type": "execute_result"
    }
   ],
   "source": [
    "# Dictionaries are a bit different from sets since they contain the Key/Value Pair\n",
    "dict_cream = {'Name': 'Derrick Simiyu', 'weekly intake': 5, 'Favorite places': ['MCC', 'CreamyInn', 'Chocolate']}\n",
    "dict_cream"
   ]
  },
  {
   "cell_type": "code",
   "execution_count": 100,
   "id": "25376a9e-ec6e-40d4-a13e-12306dbe6bb6",
   "metadata": {},
   "outputs": [
    {
     "data": {
      "text/plain": [
       "dict"
      ]
     },
     "execution_count": 100,
     "metadata": {},
     "output_type": "execute_result"
    }
   ],
   "source": [
    "type(dict_cream)"
   ]
  },
  {
   "cell_type": "code",
   "execution_count": 102,
   "id": "df477433-c284-4da5-9dd0-19e5836de34a",
   "metadata": {},
   "outputs": [
    {
     "data": {
      "text/plain": [
       "dict_values(['Derrick Simiyu', 5, ['MCC', 'CreamyInn', 'Chocolate']])"
      ]
     },
     "execution_count": 102,
     "metadata": {},
     "output_type": "execute_result"
    }
   ],
   "source": [
    "dict_cream.values()"
   ]
  },
  {
   "cell_type": "code",
   "execution_count": 104,
   "id": "829837b2-7273-4a90-a7f7-45abaf58a7f9",
   "metadata": {},
   "outputs": [
    {
     "data": {
      "text/plain": [
       "dict_keys(['Name', 'weekly intake', 'Favorite places'])"
      ]
     },
     "execution_count": 104,
     "metadata": {},
     "output_type": "execute_result"
    }
   ],
   "source": [
    "dict_cream.keys()"
   ]
  },
  {
   "cell_type": "code",
   "execution_count": 106,
   "id": "0f869011-5dc7-4f48-98f7-0e7260cb6bb3",
   "metadata": {},
   "outputs": [
    {
     "data": {
      "text/plain": [
       "dict_items([('Name', 'Derrick Simiyu'), ('weekly intake', 5), ('Favorite places', ['MCC', 'CreamyInn', 'Chocolate'])])"
      ]
     },
     "execution_count": 106,
     "metadata": {},
     "output_type": "execute_result"
    }
   ],
   "source": [
    "dict_cream.items()"
   ]
  },
  {
   "cell_type": "code",
   "execution_count": 108,
   "id": "096c1e3b-7a69-43ad-83a8-5f697174a1f7",
   "metadata": {},
   "outputs": [
    {
     "data": {
      "text/plain": [
       "'Derrick Simiyu'"
      ]
     },
     "execution_count": 108,
     "metadata": {},
     "output_type": "execute_result"
    }
   ],
   "source": [
    "# Dictionaries index calling is quite diff from lists\n",
    "dict_cream['Name']"
   ]
  },
  {
   "cell_type": "code",
   "execution_count": 110,
   "id": "ad7fec93-dd87-441a-920b-214ad19ccfb7",
   "metadata": {},
   "outputs": [
    {
     "name": "stdout",
     "output_type": "stream",
     "text": [
      "{'Name': 'Martha Wafula', 'weekly intake': 5, 'Favorite places': ['MCC', 'CreamyInn', 'Chocolate']}\n"
     ]
    }
   ],
   "source": [
    "# Dictionaries can easily be updated and changed to different values\n",
    "dict_cream['Name'] = 'Martha Wafula'\n",
    "\n",
    "print(dict_cream)"
   ]
  },
  {
   "cell_type": "code",
   "execution_count": 112,
   "id": "d1beb9e4-2ce5-46df-868c-30d934d3ebbb",
   "metadata": {},
   "outputs": [
    {
     "name": "stdout",
     "output_type": "stream",
     "text": [
      "{'Name': 'Martha Wafula', 'weekly intake': 5, 'Favorite places': ['MCC', 'CreamyInn', 'Chocolate'], 'weight': 300}\n"
     ]
    }
   ],
   "source": [
    "dict_cream.update({'weight':300})\n",
    "print(dict_cream)"
   ]
  },
  {
   "cell_type": "code",
   "execution_count": 114,
   "id": "e4c4263b-de7e-401c-8853-0ae08ea68e76",
   "metadata": {},
   "outputs": [
    {
     "name": "stdout",
     "output_type": "stream",
     "text": [
      "{'Name': 'Martha Wafula', 'Favorite places': ['MCC', 'CreamyInn', 'Chocolate'], 'weight': 300}\n"
     ]
    }
   ],
   "source": [
    "del dict_cream['weekly intake']\n",
    "\n",
    "print(dict_cream)"
   ]
  },
  {
   "cell_type": "markdown",
   "id": "8b46d431-fc2a-4d40-82a5-1692c3de8418",
   "metadata": {},
   "source": [
    "# Comparison, Logical and Membership Operators"
   ]
  },
  {
   "cell_type": "markdown",
   "id": "19f8904e-059a-491e-ba5c-77bcb480e2ec",
   "metadata": {},
   "source": [
    "##### Comparison Operators \n",
    "#####  ==                 Equal to\n",
    "#####  !=                 Not Equal\n",
    "#####  >                  Greater than\n",
    "#####  <                  Less than\n",
    "#####  >=                 Greater than or equal to\n",
    "#####  <=                 Less than or equal to"
   ]
  },
  {
   "cell_type": "code",
   "execution_count": 119,
   "id": "9d01f62f-ce7f-40ec-a289-d9f1fe5fbdd6",
   "metadata": {},
   "outputs": [
    {
     "data": {
      "text/plain": [
       "True"
      ]
     },
     "execution_count": 119,
     "metadata": {},
     "output_type": "execute_result"
    }
   ],
   "source": [
    "10 == 10"
   ]
  },
  {
   "cell_type": "code",
   "execution_count": 121,
   "id": "a8cb57a8-6381-4f3b-9d6d-e45e2eea7c43",
   "metadata": {},
   "outputs": [
    {
     "data": {
      "text/plain": [
       "False"
      ]
     },
     "execution_count": 121,
     "metadata": {},
     "output_type": "execute_result"
    }
   ],
   "source": [
    "10 == 50"
   ]
  },
  {
   "cell_type": "markdown",
   "id": "741ca803-c8b6-48ff-965c-e942fe00a252",
   "metadata": {},
   "source": [
    "##### Logical Operators\n",
    "##### And - returns True if both statements are true\n",
    "##### Or -  returns True if one of the statements are true\n",
    "##### Not - Reverses the results, it returns False if the statement is True"
   ]
  },
  {
   "cell_type": "code",
   "execution_count": 126,
   "id": "d438c167-9e5d-40c3-a237-b006389ef726",
   "metadata": {},
   "outputs": [
    {
     "data": {
      "text/plain": [
       "False"
      ]
     },
     "execution_count": 126,
     "metadata": {},
     "output_type": "execute_result"
    }
   ],
   "source": [
    "(10 < 3) and (50 > 20)"
   ]
  },
  {
   "cell_type": "code",
   "execution_count": 128,
   "id": "efbb4fe5-6976-4195-9ac9-4dff5f00fc03",
   "metadata": {},
   "outputs": [
    {
     "data": {
      "text/plain": [
       "True"
      ]
     },
     "execution_count": 128,
     "metadata": {},
     "output_type": "execute_result"
    }
   ],
   "source": [
    "(50 > 25) or (30 < 10)"
   ]
  },
  {
   "cell_type": "code",
   "execution_count": 130,
   "id": "ba027db9-1e9c-444e-acb3-df5357d5d936",
   "metadata": {},
   "outputs": [
    {
     "data": {
      "text/plain": [
       "False"
      ]
     },
     "execution_count": 130,
     "metadata": {},
     "output_type": "execute_result"
    }
   ],
   "source": [
    "not(50 > 25)"
   ]
  },
  {
   "cell_type": "markdown",
   "id": "574c6e11-613c-4040-ba95-53711d5484ae",
   "metadata": {},
   "source": [
    "##### Membership Operators\n",
    "##### in - returns True if a sequence with the specified value is present in the object\n",
    "##### not in - returns False a sequence with the specified value is not present in the object"
   ]
  },
  {
   "cell_type": "code",
   "execution_count": 133,
   "id": "8f291fca-131b-4da3-b457-7bb7d3c08046",
   "metadata": {},
   "outputs": [
    {
     "data": {
      "text/plain": [
       "True"
      ]
     },
     "execution_count": 133,
     "metadata": {},
     "output_type": "execute_result"
    }
   ],
   "source": [
    "ice_cream = 'I love chocolate ice cream'\n",
    "'love' in ice_cream"
   ]
  },
  {
   "cell_type": "code",
   "execution_count": 135,
   "id": "4c902c57-2b25-459e-a64d-cd840dc037a4",
   "metadata": {},
   "outputs": [
    {
     "data": {
      "text/plain": [
       "True"
      ]
     },
     "execution_count": 135,
     "metadata": {},
     "output_type": "execute_result"
    }
   ],
   "source": [
    "scoops = [1,2,3,4,5]\n",
    "2 in scoops"
   ]
  },
  {
   "cell_type": "code",
   "execution_count": 137,
   "id": "354edeb6-43e1-4d77-bfa1-84cf2dd220ca",
   "metadata": {},
   "outputs": [
    {
     "data": {
      "text/plain": [
       "True"
      ]
     },
     "execution_count": 137,
     "metadata": {},
     "output_type": "execute_result"
    }
   ],
   "source": [
    "6 not in scoops"
   ]
  },
  {
   "cell_type": "code",
   "execution_count": 139,
   "id": "054e6f6d-4e27-4887-8688-8a5f9227dd3c",
   "metadata": {},
   "outputs": [
    {
     "data": {
      "text/plain": [
       "False"
      ]
     },
     "execution_count": 139,
     "metadata": {},
     "output_type": "execute_result"
    }
   ],
   "source": [
    "wanted_scoops = 8\n",
    "wanted_scoops in scoops"
   ]
  },
  {
   "cell_type": "markdown",
   "id": "f1fd29f7-220b-4eea-882b-527e39966221",
   "metadata": {},
   "source": [
    "# If - Elif - Else Statements"
   ]
  },
  {
   "cell_type": "code",
   "execution_count": 142,
   "id": "65c9d125-a343-4426-998a-f0850b5aaf5e",
   "metadata": {},
   "outputs": [
    {
     "name": "stdout",
     "output_type": "stream",
     "text": [
      "Hurray! It worked\n"
     ]
    }
   ],
   "source": [
    "# The if body\n",
    "if 25 > 10:\n",
    "    print('Hurray! It worked')"
   ]
  },
  {
   "cell_type": "code",
   "execution_count": 146,
   "id": "f9709539-b78a-4a5c-93e5-2fc9cc01e656",
   "metadata": {},
   "outputs": [
    {
     "name": "stdout",
     "output_type": "stream",
     "text": [
      "It did not work!\n"
     ]
    }
   ],
   "source": [
    "# The else body\n",
    "if 25 < 10:\n",
    "    print('Hurray! It worked')\n",
    "else:\n",
    "    print('It did not work!')"
   ]
  },
  {
   "cell_type": "code",
   "execution_count": 150,
   "id": "81eeb920-802d-406a-8612-1a911cf922cc",
   "metadata": {},
   "outputs": [
    {
     "name": "stdout",
     "output_type": "stream",
     "text": [
      "Hurray! It worked\n"
     ]
    }
   ],
   "source": [
    "if 25 > 10:\n",
    "    print('Hurray! It worked')\n",
    "else:\n",
    "    print('It did not work!')"
   ]
  },
  {
   "cell_type": "code",
   "execution_count": 152,
   "id": "ffc6e582-6b2e-4d29-a6e7-f76157c82dd6",
   "metadata": {},
   "outputs": [
    {
     "name": "stdout",
     "output_type": "stream",
     "text": [
      "elif worked\n"
     ]
    }
   ],
   "source": [
    "# The elif body\n",
    "if 25 < 10:\n",
    "    print('Hurray! It worked')\n",
    "elif 25 < 30:\n",
    "    print('elif worked')    \n",
    "else:\n",
    "    print('It did not work!')"
   ]
  },
  {
   "cell_type": "code",
   "execution_count": 154,
   "id": "cb56c931-46e5-4c8a-a47f-8cfe9d01aea7",
   "metadata": {},
   "outputs": [
    {
     "name": "stdout",
     "output_type": "stream",
     "text": [
      "elif 3 worked\n"
     ]
    }
   ],
   "source": [
    "if 25 < 10:\n",
    "    print('Hurray! It worked')\n",
    "elif 25 < 20:\n",
    "    print('elif 1 worked')\n",
    "elif 25 < 21:\n",
    "    print('elif 2 worked')\n",
    "elif 25 < 30:\n",
    "    print('elif 3 worked')    \n",
    "elif 25 < 40:\n",
    "    print('elif 4 worked')    \n",
    "else:\n",
    "    print('It did not work!')"
   ]
  },
  {
   "cell_type": "code",
   "execution_count": 156,
   "id": "31667b52-c67b-4eb7-938a-38ae11c15db6",
   "metadata": {},
   "outputs": [
    {
     "name": "stdout",
     "output_type": "stream",
     "text": [
      "Hurray! It worked\n"
     ]
    }
   ],
   "source": [
    "if (25 < 10) or (2 > 1):\n",
    "    print('Hurray! It worked')\n",
    "elif 25 < 30:\n",
    "    print('elif worked')    \n",
    "else:\n",
    "    print('It did not work!')"
   ]
  },
  {
   "cell_type": "code",
   "execution_count": 158,
   "id": "c2790b5a-6df4-46cd-86ba-1a8528c21d37",
   "metadata": {},
   "outputs": [
    {
     "name": "stdout",
     "output_type": "stream",
     "text": [
      "It worked\n"
     ]
    }
   ],
   "source": [
    "print('It worked') if 10 < 30 else print('It did not work...')"
   ]
  },
  {
   "cell_type": "code",
   "execution_count": 160,
   "id": "0f6019cf-f5c3-4a8f-a426-13250f0c0e13",
   "metadata": {},
   "outputs": [
    {
     "name": "stdout",
     "output_type": "stream",
     "text": [
      "Hurray! It worked\n",
      "This nested if statement also worked\n"
     ]
    }
   ],
   "source": [
    "# Nested If/Else statements\n",
    "if (25 < 10) or (2 > 1):\n",
    "    print('Hurray! It worked')\n",
    "    if 10 > 5:\n",
    "        print('This nested if statement also worked')\n",
    "elif 25 < 30:\n",
    "    print('elif worked')    \n",
    "else:\n",
    "    print('It did not work!')"
   ]
  },
  {
   "cell_type": "markdown",
   "id": "aa4270cf-28d3-4048-827d-3bff9866a438",
   "metadata": {},
   "source": [
    "# For Loops in Python"
   ]
  },
  {
   "cell_type": "code",
   "execution_count": 163,
   "id": "7764bef7-f357-4bcc-b3e3-c58be4b0c26d",
   "metadata": {},
   "outputs": [
    {
     "data": {
      "text/plain": [
       "[1, 2, 3, 4, 5]"
      ]
     },
     "execution_count": 163,
     "metadata": {},
     "output_type": "execute_result"
    }
   ],
   "source": [
    "# for loop is used to iterate over a sequence\n",
    "integers = [1,2,3,4,5]\n",
    "integers"
   ]
  },
  {
   "cell_type": "code",
   "execution_count": 165,
   "id": "b47ee95e-ab17-4689-9624-7c52c2f2cd4d",
   "metadata": {},
   "outputs": [
    {
     "name": "stdout",
     "output_type": "stream",
     "text": [
      "1\n",
      "2\n",
      "3\n",
      "4\n",
      "5\n"
     ]
    }
   ],
   "source": [
    "for number in integers:\n",
    "    print(number)"
   ]
  },
  {
   "cell_type": "code",
   "execution_count": 169,
   "id": "64b7c709-fe0f-49aa-91d3-4bda11cb604b",
   "metadata": {},
   "outputs": [
    {
     "name": "stdout",
     "output_type": "stream",
     "text": [
      "yes!\n",
      "yes!\n",
      "yes!\n",
      "yes!\n",
      "yes!\n"
     ]
    }
   ],
   "source": [
    "for number in integers:\n",
    "    print('yes!')"
   ]
  },
  {
   "cell_type": "code",
   "execution_count": 171,
   "id": "f52884af-3a03-4880-9f7d-01ed543a0d45",
   "metadata": {},
   "outputs": [
    {
     "name": "stdout",
     "output_type": "stream",
     "text": [
      "2\n",
      "4\n",
      "6\n",
      "8\n",
      "10\n"
     ]
    }
   ],
   "source": [
    "for jelly in integers:\n",
    "    print(jelly + jelly)"
   ]
  },
  {
   "cell_type": "code",
   "execution_count": 173,
   "id": "85c3b8f9-8b7d-4dfb-b12c-a3ee8dcacc71",
   "metadata": {},
   "outputs": [],
   "source": [
    "# Looping through a dictionary\n",
    "ice_cream_dict = {'name':'Derrick Simi', 'daily_intake':5, 'favorite spots':['MCC','CreamyInn','Chocolate']}"
   ]
  },
  {
   "cell_type": "code",
   "execution_count": 175,
   "id": "5e3a5d3c-3260-4a40-a6d4-7a5912a507c8",
   "metadata": {},
   "outputs": [
    {
     "name": "stdout",
     "output_type": "stream",
     "text": [
      "Derrick Simi\n",
      "5\n",
      "['MCC', 'CreamyInn', 'Chocolate']\n"
     ]
    }
   ],
   "source": [
    "for cream in ice_cream_dict.values():\n",
    "    print(cream)"
   ]
  },
  {
   "cell_type": "code",
   "execution_count": 177,
   "id": "ae80fabc-8011-491b-b9cb-1debe87f8faf",
   "metadata": {},
   "outputs": [
    {
     "name": "stdout",
     "output_type": "stream",
     "text": [
      "name -> Derrick Simi\n",
      "daily_intake -> 5\n",
      "favorite spots -> ['MCC', 'CreamyInn', 'Chocolate']\n"
     ]
    }
   ],
   "source": [
    "for key, value in ice_cream_dict.items():\n",
    "    print(key, '->', value)"
   ]
  },
  {
   "cell_type": "code",
   "execution_count": 179,
   "id": "af59ea67-087f-4e16-996b-779e5ac63717",
   "metadata": {},
   "outputs": [],
   "source": [
    "# Nested For Loops\n",
    "# This is basically a loop within a loop\n",
    "\n",
    "flavors = ['Vanilla', 'Chocolate', 'Cookie Dough']\n",
    "toppings = ['Hot Fudge', 'Ories', 'Marshmallows']"
   ]
  },
  {
   "cell_type": "code",
   "execution_count": 181,
   "id": "cdf00776-cb83-4dcb-9706-8acffa082e78",
   "metadata": {},
   "outputs": [
    {
     "name": "stdout",
     "output_type": "stream",
     "text": [
      "Vanilla topped with Hot Fudge\n",
      "Vanilla topped with Ories\n",
      "Vanilla topped with Marshmallows\n",
      "Chocolate topped with Hot Fudge\n",
      "Chocolate topped with Ories\n",
      "Chocolate topped with Marshmallows\n",
      "Cookie Dough topped with Hot Fudge\n",
      "Cookie Dough topped with Ories\n",
      "Cookie Dough topped with Marshmallows\n"
     ]
    }
   ],
   "source": [
    "for one in flavors:\n",
    "    for two in toppings:\n",
    "        print(one, 'topped with', two)"
   ]
  },
  {
   "cell_type": "markdown",
   "id": "e6b9eb48-867b-4be3-b92c-de1f9dfd49c1",
   "metadata": {},
   "source": [
    "# While Loops In Python"
   ]
  },
  {
   "cell_type": "code",
   "execution_count": 184,
   "id": "c6ccfdba-de7c-484f-8049-3e9fda0ebf06",
   "metadata": {},
   "outputs": [],
   "source": [
    "# a for loop iterates over the entire sequence regardless of a condition but\n",
    "# the while loop is only iterate over that sequence as long as a specific condition is met\n",
    "# once that condition is not met, the code is gonna stop and not iterate through the rest of the sequence"
   ]
  },
  {
   "cell_type": "code",
   "execution_count": 186,
   "id": "ffd68937-9a41-4961-b401-3398b70d1e5b",
   "metadata": {},
   "outputs": [
    {
     "name": "stdout",
     "output_type": "stream",
     "text": [
      "0\n",
      "1\n",
      "2\n",
      "3\n",
      "4\n"
     ]
    }
   ],
   "source": [
    "number = 0\n",
    "while number < 5:\n",
    "    print(number)\n",
    "    number = number + 1"
   ]
  },
  {
   "cell_type": "code",
   "execution_count": 188,
   "id": "2e5a503f-7dcc-4b70-a728-09042d911e8a",
   "metadata": {},
   "outputs": [
    {
     "name": "stdout",
     "output_type": "stream",
     "text": [
      "0\n",
      "1\n",
      "2\n",
      "3\n"
     ]
    }
   ],
   "source": [
    "# break statement in while loop\n",
    "    \n",
    "number = 0\n",
    "\n",
    "while number < 5:\n",
    "    print(number)\n",
    "    if number == 3:\n",
    "        break\n",
    "    number = number + 1"
   ]
  },
  {
   "cell_type": "code",
   "execution_count": 190,
   "id": "70ff7f4b-655b-4412-bffb-78145641aa95",
   "metadata": {},
   "outputs": [
    {
     "name": "stdout",
     "output_type": "stream",
     "text": [
      "0\n",
      "1\n",
      "2\n",
      "3\n",
      "4\n",
      "No longer < 5\n"
     ]
    }
   ],
   "source": [
    "number = 0\n",
    "\n",
    "while number < 5:\n",
    "    print(number)\n",
    "    if number == 6:\n",
    "        break\n",
    "    number = number + 1\n",
    "else:\n",
    "    print('No longer < 5')"
   ]
  },
  {
   "cell_type": "code",
   "execution_count": 193,
   "id": "eb15b6a7-77d2-4b6c-aaaf-12d2b39e4b2e",
   "metadata": {},
   "outputs": [
    {
     "name": "stdout",
     "output_type": "stream",
     "text": [
      "1\n",
      "2\n",
      "4\n",
      "5\n",
      "No longer < 5\n"
     ]
    }
   ],
   "source": [
    "number = 0\n",
    "\n",
    "while number < 5:\n",
    "    number = number + 1\n",
    "    if number == 3:\n",
    "        continue\n",
    "    print(number)\n",
    "else:\n",
    "    print('No longer < 5')"
   ]
  },
  {
   "cell_type": "markdown",
   "id": "61632b3f-0b46-4398-9db2-ed053d201d0c",
   "metadata": {},
   "source": [
    "# Functions in Python"
   ]
  },
  {
   "cell_type": "code",
   "execution_count": 2,
   "id": "500a31fb-8f37-460c-97d3-29c33389c86a",
   "metadata": {},
   "outputs": [
    {
     "name": "stdout",
     "output_type": "stream",
     "text": [
      "My first function\n"
     ]
    }
   ],
   "source": [
    "# A function is a block of code which is only run when you call it. \n",
    "def function():\n",
    "    print(\"My first function\")\n",
    "function()"
   ]
  },
  {
   "cell_type": "code",
   "execution_count": 4,
   "id": "d69dfef6-9aac-419f-b493-28292093eaaa",
   "metadata": {},
   "outputs": [],
   "source": [
    "def first_func():\n",
    "    print('We did it!')"
   ]
  },
  {
   "cell_type": "code",
   "execution_count": 6,
   "id": "085f528a-e2c2-4775-9a94-de1b30c5a818",
   "metadata": {},
   "outputs": [
    {
     "name": "stdout",
     "output_type": "stream",
     "text": [
      "We did it!\n"
     ]
    }
   ],
   "source": [
    "first_func()"
   ]
  },
  {
   "cell_type": "code",
   "execution_count": 8,
   "id": "a2cba7b7-126c-4e24-add1-31ed2b552608",
   "metadata": {},
   "outputs": [],
   "source": [
    "#Arguments in functions\n",
    "def number_squared(number):\n",
    "    print(number**2)"
   ]
  },
  {
   "cell_type": "code",
   "execution_count": 10,
   "id": "18a93218-595c-44f6-8162-5bef07e79386",
   "metadata": {},
   "outputs": [
    {
     "name": "stdout",
     "output_type": "stream",
     "text": [
      "25\n"
     ]
    }
   ],
   "source": [
    "number_squared(5)"
   ]
  },
  {
   "cell_type": "code",
   "execution_count": 12,
   "id": "1a6d5a6f-dd8b-44ee-928c-a40c000a22d1",
   "metadata": {},
   "outputs": [],
   "source": [
    "def number_squared_cust(number,power):\n",
    "    print(number**power)"
   ]
  },
  {
   "cell_type": "code",
   "execution_count": 14,
   "id": "ee18542a-d6c5-480c-bed6-86e4dd3da35b",
   "metadata": {},
   "outputs": [
    {
     "name": "stdout",
     "output_type": "stream",
     "text": [
      "125\n"
     ]
    }
   ],
   "source": [
    "number_squared_cust(5,3)"
   ]
  },
  {
   "cell_type": "code",
   "execution_count": null,
   "id": "1178b0b6-4700-40d1-9cfe-b05ecdec045b",
   "metadata": {},
   "outputs": [],
   "source": [
    "#if you have two arguments within a function,\n",
    "#you have to call out those two arguments for the function to work"
   ]
  },
  {
   "cell_type": "code",
   "execution_count": 16,
   "id": "351c414a-ab18-432b-aa83-c14d2d7c2861",
   "metadata": {},
   "outputs": [],
   "source": [
    "#Arbitrary Arguments\n",
    "def number_args(*number):\n",
    "    print(number[0]*number[1])"
   ]
  },
  {
   "cell_type": "code",
   "execution_count": 18,
   "id": "68a305e8-a6d0-4718-a55d-9509f495dffa",
   "metadata": {},
   "outputs": [
    {
     "name": "stdout",
     "output_type": "stream",
     "text": [
      "30\n"
     ]
    }
   ],
   "source": [
    "number_args(5,6,1,2,8)"
   ]
  },
  {
   "cell_type": "code",
   "execution_count": 20,
   "id": "77675623-eb2b-4eb3-9552-207373897413",
   "metadata": {},
   "outputs": [],
   "source": [
    "# keyword arguments\n",
    "def number_squared_cust(number,power):\n",
    "    print(number**power)"
   ]
  },
  {
   "cell_type": "code",
   "execution_count": 22,
   "id": "0a008dea-b9ff-42a2-b350-c6a53f256c66",
   "metadata": {},
   "outputs": [
    {
     "name": "stdout",
     "output_type": "stream",
     "text": [
      "243\n"
     ]
    }
   ],
   "source": [
    "number_squared_cust(power = 5,number =3)"
   ]
  },
  {
   "cell_type": "code",
   "execution_count": 24,
   "id": "f3cbf2f2-ea8d-400e-8150-8c241547d44d",
   "metadata": {},
   "outputs": [],
   "source": [
    "# arbitrary keyword argument\n",
    "def number_kwarg(**number):\n",
    "    print('My number is: ' + number['integer'])    "
   ]
  },
  {
   "cell_type": "code",
   "execution_count": 26,
   "id": "05cb5285-dad1-4d48-8531-498cef0ed432",
   "metadata": {},
   "outputs": [
    {
     "name": "stdout",
     "output_type": "stream",
     "text": [
      "My number is: 2309\n"
     ]
    }
   ],
   "source": [
    "number_kwarg(integer = '2309')"
   ]
  },
  {
   "cell_type": "markdown",
   "id": "1da779d6-74a4-48e5-9edb-b5eb652d6e40",
   "metadata": {},
   "source": [
    "# Converting Data types"
   ]
  },
  {
   "cell_type": "code",
   "execution_count": 29,
   "id": "c498ba21-4497-4596-a532-e2e41137cf86",
   "metadata": {},
   "outputs": [
    {
     "data": {
      "text/plain": [
       "int"
      ]
     },
     "execution_count": 29,
     "metadata": {},
     "output_type": "execute_result"
    }
   ],
   "source": [
    "num_int = 7 \n",
    "type(num_int)"
   ]
  },
  {
   "cell_type": "code",
   "execution_count": 31,
   "id": "6176336f-3cda-4558-8127-169e663b3aef",
   "metadata": {},
   "outputs": [
    {
     "data": {
      "text/plain": [
       "str"
      ]
     },
     "execution_count": 31,
     "metadata": {},
     "output_type": "execute_result"
    }
   ],
   "source": [
    "num_str = '7'\n",
    "type(num_str)"
   ]
  },
  {
   "cell_type": "code",
   "execution_count": 33,
   "id": "7ce30c3c-9d0a-49b4-bae0-12c9740a4bbd",
   "metadata": {},
   "outputs": [],
   "source": [
    "num_str_conv = int(num_str)"
   ]
  },
  {
   "cell_type": "code",
   "execution_count": 35,
   "id": "509f1338-cb86-4fa1-998d-ea0cd94a577f",
   "metadata": {},
   "outputs": [
    {
     "data": {
      "text/plain": [
       "int"
      ]
     },
     "execution_count": 35,
     "metadata": {},
     "output_type": "execute_result"
    }
   ],
   "source": [
    "type(num_str_conv)"
   ]
  },
  {
   "cell_type": "code",
   "execution_count": 37,
   "id": "a3e9ea58-a002-417c-b16d-6ec159ab05c4",
   "metadata": {},
   "outputs": [
    {
     "data": {
      "text/plain": [
       "14"
      ]
     },
     "execution_count": 37,
     "metadata": {},
     "output_type": "execute_result"
    }
   ],
   "source": [
    "num_str_conv + num_int"
   ]
  },
  {
   "cell_type": "code",
   "execution_count": 39,
   "id": "34229e1e-196a-4fad-8b46-6d6eb5c7bf47",
   "metadata": {},
   "outputs": [
    {
     "data": {
      "text/plain": [
       "list"
      ]
     },
     "execution_count": 39,
     "metadata": {},
     "output_type": "execute_result"
    }
   ],
   "source": [
    "#converting lists,sets and tuples\n",
    "list_type = [1,2,3]\n",
    "type(list_type)"
   ]
  },
  {
   "cell_type": "code",
   "execution_count": 41,
   "id": "93e8f7a9-5a84-4d3b-9805-9fc3e2061776",
   "metadata": {},
   "outputs": [
    {
     "data": {
      "text/plain": [
       "tuple"
      ]
     },
     "execution_count": 41,
     "metadata": {},
     "output_type": "execute_result"
    }
   ],
   "source": [
    "type(tuple(list_type))"
   ]
  },
  {
   "cell_type": "code",
   "execution_count": 43,
   "id": "8fde3c63-d866-4cc1-b5de-173dc0a6ea74",
   "metadata": {},
   "outputs": [],
   "source": [
    "list_type = [1,2,3,3,2,1,2,3,2,1]"
   ]
  },
  {
   "cell_type": "code",
   "execution_count": 45,
   "id": "d8477b5b-0084-4f63-be18-b387046a9b89",
   "metadata": {},
   "outputs": [
    {
     "data": {
      "text/plain": [
       "{1, 2, 3}"
      ]
     },
     "execution_count": 45,
     "metadata": {},
     "output_type": "execute_result"
    }
   ],
   "source": [
    "set(list_type) # A set only takes the unique values in a list"
   ]
  },
  {
   "cell_type": "code",
   "execution_count": 47,
   "id": "74b14d00-1476-4f7e-8deb-4b15f8253ab0",
   "metadata": {},
   "outputs": [
    {
     "data": {
      "text/plain": [
       "dict"
      ]
     },
     "execution_count": 47,
     "metadata": {},
     "output_type": "execute_result"
    }
   ],
   "source": [
    "#converting dictionaries\n",
    "dict_type = {'name':'Derrick', 'Age':25,'hair':'N/A'}\n",
    "type(dict_type)"
   ]
  },
  {
   "cell_type": "code",
   "execution_count": 49,
   "id": "60839a72-4d69-46ca-aefb-9a455c443db0",
   "metadata": {},
   "outputs": [
    {
     "data": {
      "text/plain": [
       "dict_items([('name', 'Derrick'), ('Age', 25), ('hair', 'N/A')])"
      ]
     },
     "execution_count": 49,
     "metadata": {},
     "output_type": "execute_result"
    }
   ],
   "source": [
    "dict_type.items()"
   ]
  },
  {
   "cell_type": "code",
   "execution_count": 51,
   "id": "d89b6ad3-78e2-4edf-ab69-4ecafad941ee",
   "metadata": {},
   "outputs": [
    {
     "data": {
      "text/plain": [
       "dict_values(['Derrick', 25, 'N/A'])"
      ]
     },
     "execution_count": 51,
     "metadata": {},
     "output_type": "execute_result"
    }
   ],
   "source": [
    "dict_type.values()"
   ]
  },
  {
   "cell_type": "code",
   "execution_count": 53,
   "id": "d35a5c61-3737-44f7-b82b-f8a5d863a4c0",
   "metadata": {},
   "outputs": [
    {
     "data": {
      "text/plain": [
       "dict_keys(['name', 'Age', 'hair'])"
      ]
     },
     "execution_count": 53,
     "metadata": {},
     "output_type": "execute_result"
    }
   ],
   "source": [
    "dict_type.keys()"
   ]
  },
  {
   "cell_type": "code",
   "execution_count": 55,
   "id": "e4b90050-3752-4390-9e64-06ac3c00ee12",
   "metadata": {},
   "outputs": [
    {
     "data": {
      "text/plain": [
       "['name', 'Age', 'hair']"
      ]
     },
     "execution_count": 55,
     "metadata": {},
     "output_type": "execute_result"
    }
   ],
   "source": [
    "list(dict_type.keys())"
   ]
  },
  {
   "cell_type": "code",
   "execution_count": 57,
   "id": "44656bbc-d0c0-4042-8254-274db4ddd669",
   "metadata": {},
   "outputs": [
    {
     "data": {
      "text/plain": [
       "['I',\n",
       " ' ',\n",
       " 'l',\n",
       " 'i',\n",
       " 'k',\n",
       " 'e',\n",
       " ' ',\n",
       " 't',\n",
       " 'o',\n",
       " ' ',\n",
       " 'g',\n",
       " 'o',\n",
       " ' ',\n",
       " 't',\n",
       " 'o',\n",
       " ' ',\n",
       " 'C',\n",
       " 'h',\n",
       " 'u',\n",
       " 'r',\n",
       " 'c',\n",
       " 'h']"
      ]
     },
     "execution_count": 57,
     "metadata": {},
     "output_type": "execute_result"
    }
   ],
   "source": [
    "long_str = 'I like to go to Church'\n",
    "list(long_str)"
   ]
  },
  {
   "cell_type": "code",
   "execution_count": null,
   "id": "a36460e0-0f61-439c-bdc1-12b98cd849c7",
   "metadata": {},
   "outputs": [],
   "source": []
  }
 ],
 "metadata": {
  "kernelspec": {
   "display_name": "Python [conda env:base] *",
   "language": "python",
   "name": "conda-base-py"
  },
  "language_info": {
   "codemirror_mode": {
    "name": "ipython",
    "version": 3
   },
   "file_extension": ".py",
   "mimetype": "text/x-python",
   "name": "python",
   "nbconvert_exporter": "python",
   "pygments_lexer": "ipython3",
   "version": "3.12.7"
  }
 },
 "nbformat": 4,
 "nbformat_minor": 5
}
